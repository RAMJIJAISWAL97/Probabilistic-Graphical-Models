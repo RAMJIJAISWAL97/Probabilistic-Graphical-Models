{
  "nbformat": 4,
  "nbformat_minor": 0,
  "metadata": {
    "colab": {
      "name": "Cycle_Detection_Using_BFS.ipynb",
      "provenance": [],
      "collapsed_sections": [],
      "authorship_tag": "ABX9TyN3j6UaQYMdJgikiiiZ7oFK",
      "include_colab_link": true
    },
    "kernelspec": {
      "name": "python3",
      "display_name": "Python 3"
    }
  },
  "cells": [
    {
      "cell_type": "markdown",
      "metadata": {
        "id": "view-in-github",
        "colab_type": "text"
      },
      "source": [
        "<a href=\"https://colab.research.google.com/github/RAMJIJAISWAL97/Probabilistic-Graphical-Models/blob/master/Cycle_Detection_Using_BFS.ipynb\" target=\"_parent\"><img src=\"https://colab.research.google.com/assets/colab-badge.svg\" alt=\"Open In Colab\"/></a>"
      ]
    },
    {
      "cell_type": "code",
      "metadata": {
        "id": "AtxdsTJ43ImB",
        "colab_type": "code",
        "colab": {}
      },
      "source": [
        "from collections import defaultdict\n",
        "# Graph(graph) is a defaultict of type List\n",
        "# n is no of Vertices\n",
        "def isCyclic(n, g):\n",
        "    in_degree=[0]*n\n",
        "    for i in g:\n",
        "        for j in g[i]:\n",
        "            in_degree[j]+=1\n",
        "    queue=[]\n",
        "    for i in range(n):\n",
        "        if(in_degree[i]==0):\n",
        "            queue.append(i)\n",
        "    count=0\n",
        "    while queue!=[]:\n",
        "        temp=queue.pop(0)\n",
        "        count+=1\n",
        "        for v in g[temp]:\n",
        "            in_degree[v]-=1\n",
        "            if(in_degree[v]==0):\n",
        "                queue.append(v)\n",
        "                \n",
        "    if count==n:\n",
        "        return 0\n",
        "    return 1\n",
        "\n",
        "\n",
        "def creategraph(n, arr, graph):\n",
        "    i = 0\n",
        "    while i < 2 * e:\n",
        "        graph[arr[i]].append(arr[i + 1])\n",
        "        # graph[arr[i + 1]].append(arr[i])\n",
        "        i += 2\n",
        "\n",
        "if __name__ == '__main__':\n",
        "    t = int(input())\n",
        "    for i in range(t):\n",
        "        n,e = list(map(int, input().strip().split()))\n",
        "        arr = list(map(int, input().strip().split()))\n",
        "        graph = defaultdict(list)\n",
        "        creategraph(e, arr, graph)\n",
        "        if isCyclic(n, graph):\n",
        "            print(\"Cycle Present\")\n",
        "        else:\n",
        "            print(\"Not Cycle\")"
      ],
      "execution_count": null,
      "outputs": []
    }
  ]
}