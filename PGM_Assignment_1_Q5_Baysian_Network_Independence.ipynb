{
  "nbformat": 4,
  "nbformat_minor": 0,
  "metadata": {
    "colab": {
      "name": "PGM_Assignment_1_Q5_Baysian_Network_Independence.ipynb",
      "provenance": [],
      "include_colab_link": true
    },
    "kernelspec": {
      "name": "python3",
      "display_name": "Python 3"
    }
  },
  "cells": [
    {
      "cell_type": "markdown",
      "metadata": {
        "id": "view-in-github",
        "colab_type": "text"
      },
      "source": [
        "<a href=\"https://colab.research.google.com/github/RAMJIJAISWAL97/Probabilistic-Graphical-Models/blob/master/PGM_Assignment_1_Q5_Baysian_Network_Independence.ipynb\" target=\"_parent\"><img src=\"https://colab.research.google.com/assets/colab-badge.svg\" alt=\"Open In Colab\"/></a>"
      ]
    },
    {
      "cell_type": "code",
      "metadata": {
        "id": "3jy0-rzhXlH_",
        "colab_type": "code",
        "colab": {}
      },
      "source": [
        "import copy\n",
        "import networkx as nx\n",
        "import matplotlib.pyplot as plt\n",
        "\n",
        "class Node(object):\n",
        "    def __init__(self, name=\"\"):\n",
        "        self.name = name\n",
        "        self.parents = dict()\n",
        "        self.children = dict()\n",
        "\n",
        "    def add_parent(self, parent):\n",
        "        pname = parent.name\n",
        "        self.parents[pname] = parent\n",
        "\n",
        "    def add_child(self, child):\n",
        "        cname = child.name\n",
        "        self.children[cname] = child\n",
        "\n",
        "class BaysianNetwork(object):\n",
        "\n",
        "    def __init__(self):\n",
        "\n",
        "        self.nodes = dict()\n",
        "\n",
        "    def add_edge(self, edge):\n",
        "\n",
        "        (pname, cname) = edge\n",
        "\n",
        "        if pname not in self.nodes:\n",
        "            self.nodes[pname] = Node(name=pname)\n",
        "        if cname not in self.nodes:\n",
        "            self.nodes[cname] = Node(name=cname)\n",
        "\n",
        "        parent = self.nodes.get(pname)\n",
        "        child = self.nodes.get(cname) \n",
        "        parent.add_child(child)\n",
        "        child.add_parent(parent)\n",
        "\n",
        "\n",
        "    def is_independent(self, start, end, observed):\n",
        "\n",
        "        visit_nodes = copy.copy(observed)\n",
        "        obs_anc = set()\n",
        "\n",
        "        while len(visit_nodes) > 0:\n",
        "            next_node = self.nodes[visit_nodes.pop()]\n",
        "           \n",
        "            for parent in next_node.parents:\n",
        "                obs_anc.add(parent)\n",
        "                \n",
        "        via_nodes = [(start, \"up\")]\n",
        "        visited = set()\n",
        "\n",
        "        while len(via_nodes) > 0: \n",
        "            (nname, direction) = via_nodes.pop()\n",
        "            node = self.nodes[nname]\n",
        "\n",
        "            if (nname, direction) not in visited:\n",
        "                visited.add((nname, direction)) \n",
        "\n",
        "                if nname not in observed and nname == end:\n",
        "                    return False\n",
        "\n",
        "                if direction == \"up\" and nname not in observed:\n",
        "                    for parent in node.parents:\n",
        "                        via_nodes.append((parent, \"up\"))\n",
        "                    for child in node.children:\n",
        "                        via_nodes.append((child, \"down\"))\n",
        "               \n",
        "                elif direction == \"down\":\n",
        "                    if nname not in observed: \n",
        "                        for child in node.children:\n",
        "                            via_nodes.append((child, \"down\"))\n",
        "                    if nname in observed or nname in obs_anc: \n",
        "                        for parent in node.parents:\n",
        "                            via_nodes.append((parent, \"up\"))\n",
        "        return True\n",
        "\n",
        "\n",
        "def add_edge(a,b):\n",
        "  bn.add_edge([a,b])\n",
        "  G.add_edge(a,b)"
      ],
      "execution_count": 3,
      "outputs": []
    },
    {
      "cell_type": "code",
      "metadata": {
        "id": "pYHZ3G-sl3hR",
        "colab_type": "code",
        "colab": {}
      },
      "source": [
        ""
      ],
      "execution_count": null,
      "outputs": []
    }
  ]
}